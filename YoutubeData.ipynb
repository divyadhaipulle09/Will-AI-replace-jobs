{
 "cells": [
  {
   "cell_type": "code",
   "execution_count": 5,
   "id": "51a2769d",
   "metadata": {},
   "outputs": [
    {
     "name": "stderr",
     "output_type": "stream",
     "text": [
      "C:\\Users\\18125\\AppData\\Local\\Temp\\ipykernel_3348\\1977311628.py:18: FutureWarning: The frame.append method is deprecated and will be removed from pandas in a future version. Use pandas.concat instead.\n",
      "  df = df.append({'text': text, 'start_time': start_time, 'duration': duration}, ignore_index=True)\n",
      "C:\\Users\\18125\\AppData\\Local\\Temp\\ipykernel_3348\\1977311628.py:18: FutureWarning: The frame.append method is deprecated and will be removed from pandas in a future version. Use pandas.concat instead.\n",
      "  df = df.append({'text': text, 'start_time': start_time, 'duration': duration}, ignore_index=True)\n",
      "C:\\Users\\18125\\AppData\\Local\\Temp\\ipykernel_3348\\1977311628.py:18: FutureWarning: The frame.append method is deprecated and will be removed from pandas in a future version. Use pandas.concat instead.\n",
      "  df = df.append({'text': text, 'start_time': start_time, 'duration': duration}, ignore_index=True)\n",
      "C:\\Users\\18125\\AppData\\Local\\Temp\\ipykernel_3348\\1977311628.py:18: FutureWarning: The frame.append method is deprecated and will be removed from pandas in a future version. Use pandas.concat instead.\n",
      "  df = df.append({'text': text, 'start_time': start_time, 'duration': duration}, ignore_index=True)\n",
      "C:\\Users\\18125\\AppData\\Local\\Temp\\ipykernel_3348\\1977311628.py:18: FutureWarning: The frame.append method is deprecated and will be removed from pandas in a future version. Use pandas.concat instead.\n",
      "  df = df.append({'text': text, 'start_time': start_time, 'duration': duration}, ignore_index=True)\n",
      "C:\\Users\\18125\\AppData\\Local\\Temp\\ipykernel_3348\\1977311628.py:18: FutureWarning: The frame.append method is deprecated and will be removed from pandas in a future version. Use pandas.concat instead.\n",
      "  df = df.append({'text': text, 'start_time': start_time, 'duration': duration}, ignore_index=True)\n"
     ]
    },
    {
     "data": {
      "text/html": [
       "<div>\n",
       "<style scoped>\n",
       "    .dataframe tbody tr th:only-of-type {\n",
       "        vertical-align: middle;\n",
       "    }\n",
       "\n",
       "    .dataframe tbody tr th {\n",
       "        vertical-align: top;\n",
       "    }\n",
       "\n",
       "    .dataframe thead th {\n",
       "        text-align: right;\n",
       "    }\n",
       "</style>\n",
       "<table border=\"1\" class=\"dataframe\">\n",
       "  <thead>\n",
       "    <tr style=\"text-align: right;\">\n",
       "      <th></th>\n",
       "      <th>text</th>\n",
       "      <th>start_time</th>\n",
       "      <th>duration</th>\n",
       "    </tr>\n",
       "  </thead>\n",
       "  <tbody>\n",
       "    <tr>\n",
       "      <th>0</th>\n",
       "      <td>This gives us a unique perspective on what mac...</td>\n",
       "      <td>61.279</td>\n",
       "      <td>3.222</td>\n",
       "    </tr>\n",
       "    <tr>\n",
       "      <th>1</th>\n",
       "      <td>what they can't do</td>\n",
       "      <td>64.525</td>\n",
       "      <td>1.235</td>\n",
       "    </tr>\n",
       "    <tr>\n",
       "      <th>2</th>\n",
       "      <td>and what jobs they might automate or threaten.</td>\n",
       "      <td>65.784</td>\n",
       "      <td>2.939</td>\n",
       "    </tr>\n",
       "    <tr>\n",
       "      <th>3</th>\n",
       "      <td>Machine learning started making its way into i...</td>\n",
       "      <td>69.316</td>\n",
       "      <td>3.550</td>\n",
       "    </tr>\n",
       "    <tr>\n",
       "      <th>4</th>\n",
       "      <td>It started with relatively simple tasks.</td>\n",
       "      <td>72.890</td>\n",
       "      <td>2.124</td>\n",
       "    </tr>\n",
       "    <tr>\n",
       "      <th>5</th>\n",
       "      <td>It started with things like asse</td>\n",
       "      <td>75.406</td>\n",
       "      <td>4.115</td>\n",
       "    </tr>\n",
       "  </tbody>\n",
       "</table>\n",
       "</div>"
      ],
      "text/plain": [
       "                                                text  start_time  duration\n",
       "0  This gives us a unique perspective on what mac...      61.279     3.222\n",
       "1                                 what they can't do      64.525     1.235\n",
       "2     and what jobs they might automate or threaten.      65.784     2.939\n",
       "3  Machine learning started making its way into i...      69.316     3.550\n",
       "4           It started with relatively simple tasks.      72.890     2.124\n",
       "5                   It started with things like asse      75.406     4.115"
      ]
     },
     "execution_count": 5,
     "metadata": {},
     "output_type": "execute_result"
    }
   ],
   "source": [
    "from bs4 import BeautifulSoup\n",
    "import pandas as pd\n",
    "\n",
    "# Get the YouTube transcript data\n",
    "YoutubeTranscriptData = '<p t=\"61279\" d=\"3222\">This gives us a unique perspective on what machines can do,</p><p t=\"64525\" d=\"1235\">what they can&#39;t do</p><p t=\"65784\" d=\"2939\">and what jobs they might automate or threaten.</p><p t=\"69316\" d=\"3550\">Machine learning started making its way into industry in the early &#39;90s.</p><p t=\"72890\" d=\"2124\">It started with relatively simple tasks.</p><p t=\"75406\" d=\"4115\">It started with things like asse'\n",
    "\n",
    "# Convert the transcript to a BeautifulSoup object\n",
    "soup = BeautifulSoup(YoutubeTranscriptData, 'html.parser')\n",
    "\n",
    "# Create an empty DataFrame\n",
    "df = pd.DataFrame(columns=['text', 'start_time', 'duration'])\n",
    "\n",
    "# Extract the text, start time, and duration of each caption and add to the DataFrame\n",
    "for p in soup.find_all('p'):\n",
    "    text = p.text\n",
    "    start_time = int(p['t']) / 1000\n",
    "    duration = int(p['d']) / 1000\n",
    "    df = df.append({'text': text, 'start_time': start_time, 'duration': duration}, ignore_index=True)\n",
    "\n",
    "# Write the DataFrame to a CSV file\n",
    "df.to_csv('YoutubeData.csv', index=False)\n",
    "\n",
    "# Print the DataFrame\n",
    "df\n"
   ]
  },
  {
   "cell_type": "code",
   "execution_count": null,
   "id": "96860e8c",
   "metadata": {},
   "outputs": [],
   "source": []
  },
  {
   "cell_type": "code",
   "execution_count": null,
   "id": "b5300e94",
   "metadata": {},
   "outputs": [],
   "source": []
  }
 ],
 "metadata": {
  "kernelspec": {
   "display_name": "Python 3 (ipykernel)",
   "language": "python",
   "name": "python3"
  },
  "language_info": {
   "codemirror_mode": {
    "name": "ipython",
    "version": 3
   },
   "file_extension": ".py",
   "mimetype": "text/x-python",
   "name": "python",
   "nbconvert_exporter": "python",
   "pygments_lexer": "ipython3",
   "version": "3.9.13"
  }
 },
 "nbformat": 4,
 "nbformat_minor": 5
}
