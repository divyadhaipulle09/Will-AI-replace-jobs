{
 "cells": [
  {
   "cell_type": "code",
   "execution_count": 7,
   "id": "90ae0f42",
   "metadata": {},
   "outputs": [],
   "source": [
    "client_id='GLUzrHSfY3kIg_NXZpjdLg'\n",
    "client_secret='FvNY5j77jEYvGQrMJQmtPBFNHAVSMQ'\n",
    "user_agent= 'my_bot/0.0.1'"
   ]
  },
  {
   "cell_type": "code",
   "execution_count": 15,
   "id": "ce8220a7",
   "metadata": {},
   "outputs": [
    {
     "data": {
      "text/html": [
       "<div>\n",
       "<style scoped>\n",
       "    .dataframe tbody tr th:only-of-type {\n",
       "        vertical-align: middle;\n",
       "    }\n",
       "\n",
       "    .dataframe tbody tr th {\n",
       "        vertical-align: top;\n",
       "    }\n",
       "\n",
       "    .dataframe thead th {\n",
       "        text-align: right;\n",
       "    }\n",
       "</style>\n",
       "<table border=\"1\" class=\"dataframe\">\n",
       "  <thead>\n",
       "    <tr style=\"text-align: right;\">\n",
       "      <th></th>\n",
       "      <th>id</th>\n",
       "      <th>title</th>\n",
       "      <th>author</th>\n",
       "      <th>created_utc</th>\n",
       "      <th>num_comments</th>\n",
       "      <th>score</th>\n",
       "    </tr>\n",
       "  </thead>\n",
       "  <tbody>\n",
       "    <tr>\n",
       "      <th>0</th>\n",
       "      <td>11qd5mg</td>\n",
       "      <td>Which minor skill WYR have for the rest of you...</td>\n",
       "      <td>Acemaster387</td>\n",
       "      <td>1678722265.0</td>\n",
       "      <td>134</td>\n",
       "      <td>556</td>\n",
       "    </tr>\n",
       "    <tr>\n",
       "      <th>1</th>\n",
       "      <td>127vzgc</td>\n",
       "      <td>Would you rather be paid 50k per date you go o...</td>\n",
       "      <td>CringeyDeeds69</td>\n",
       "      <td>1680290268.0</td>\n",
       "      <td>230</td>\n",
       "      <td>400</td>\n",
       "    </tr>\n",
       "    <tr>\n",
       "      <th>2</th>\n",
       "      <td>11xjb44</td>\n",
       "      <td>You are forced to drink one of these. WYR drin...</td>\n",
       "      <td>Vishwasm123</td>\n",
       "      <td>1679410649.0</td>\n",
       "      <td>223</td>\n",
       "      <td>404</td>\n",
       "    </tr>\n",
       "    <tr>\n",
       "      <th>3</th>\n",
       "      <td>125pglz</td>\n",
       "      <td>Would you rather get paid $30k/month but all o...</td>\n",
       "      <td>LilyTheMuttBlood</td>\n",
       "      <td>1680099572.0</td>\n",
       "      <td>138</td>\n",
       "      <td>375</td>\n",
       "    </tr>\n",
       "    <tr>\n",
       "      <th>4</th>\n",
       "      <td>11t34ab</td>\n",
       "      <td>would you rather be a (historically accurate) ...</td>\n",
       "      <td>AcceptableHornetz</td>\n",
       "      <td>1678993449.0</td>\n",
       "      <td>89</td>\n",
       "      <td>351</td>\n",
       "    </tr>\n",
       "  </tbody>\n",
       "</table>\n",
       "</div>"
      ],
      "text/plain": [
       "        id                                              title  \\\n",
       "0  11qd5mg  Which minor skill WYR have for the rest of you...   \n",
       "1  127vzgc  Would you rather be paid 50k per date you go o...   \n",
       "2  11xjb44  You are forced to drink one of these. WYR drin...   \n",
       "3  125pglz  Would you rather get paid $30k/month but all o...   \n",
       "4  11t34ab  would you rather be a (historically accurate) ...   \n",
       "\n",
       "              author   created_utc num_comments score  \n",
       "0       Acemaster387  1678722265.0          134   556  \n",
       "1     CringeyDeeds69  1680290268.0          230   400  \n",
       "2        Vishwasm123  1679410649.0          223   404  \n",
       "3   LilyTheMuttBlood  1680099572.0          138   375  \n",
       "4  AcceptableHornetz  1678993449.0           89   351  "
      ]
     },
     "execution_count": 15,
     "metadata": {},
     "output_type": "execute_result"
    }
   ],
   "source": [
    "import pandas as pd\n",
    "import praw\n",
    "import re\n",
    "client_id='GLUzrHSfY3kIg_NXZpjdLg'\n",
    "client_secret='FvNY5j77jEYvGQrMJQmtPBFNHAVSMQ'\n",
    "user_agent= 'my_bot/0.0.1'\n",
    "# Authenticate with Reddit API\n",
    "reddit = praw.Reddit(client_id=client_id,\n",
    "                     client_secret=client_secret,\n",
    "                     user_agent=user_agent)\n",
    "\n",
    "# Define subreddits to scrape\n",
    "subreddits = ['WouldYouRather', 'OpenAI', 'ChatGPT','singularity',\n",
    "             'Futurology', 'Automate', 'realtech','AskReddit','technology', 'AIandRobotics', 'antiwork']\n",
    "\n",
    "# Define list of columns to extract from submissions\n",
    "columns = ['id', 'title', 'author', 'created_utc', 'num_comments', 'score']\n",
    "\n",
    "# Define list of keywords to filter submissions\n",
    "keywords = ['chatgpt', 'ai','ml','intelligence', 'artificial', 'jobs', 'career', \n",
    "            'kill', 'replace', 'terminate', 'defeat','destroy']\n",
    "\n",
    "# Create empty list to store relevant submissions data\n",
    "relevant_submissions_data = []\n",
    "\n",
    "# Loop through each subreddit and extract relevant submissions data\n",
    "for subreddit in subreddits:\n",
    "    subreddit_data = reddit.subreddit(subreddit).top(time_filter='month', limit=100)\n",
    "    for submission in subreddit_data:\n",
    "        submission_title = submission.title.lower()\n",
    "        submission_body = submission.selftext.lower()\n",
    "        if any(re.search(keyword.lower(), submission_title) or re.search(keyword.lower(), submission_body) for keyword in keywords):\n",
    "            submission_info = {}\n",
    "            for column in columns:\n",
    "                submission_info[column] = str(getattr(submission, column))\n",
    "            relevant_submissions_data.append(submission_info)\n",
    "\n",
    "# Convert relevant submissions data to Pandas dataframe\n",
    "df_reddit = pd.DataFrame(relevant_submissions_data)\n",
    "\n",
    "# Write dataframe to CSV file\n",
    "df_reddit.to_csv('RedditData.csv', index=False)\n",
    "df_reddit.head()\n"
   ]
  },
  {
   "cell_type": "code",
   "execution_count": 16,
   "id": "d498b1eb",
   "metadata": {},
   "outputs": [
    {
     "data": {
      "text/plain": [
       "(484, 6)"
      ]
     },
     "execution_count": 16,
     "metadata": {},
     "output_type": "execute_result"
    }
   ],
   "source": [
    "df_reddit.shape"
   ]
  },
  {
   "cell_type": "code",
   "execution_count": 17,
   "id": "a53b775d",
   "metadata": {},
   "outputs": [],
   "source": [
    "for subreddit in subreddits:\n",
    "    try:\n",
    "        subreddit_data = reddit.subreddit(subreddit).top(time_filter='month', limit=100)\n",
    "        for submission in subreddit_data:\n",
    "            submission_title = submission.title.lower()\n",
    "            submission_body = submission.selftext.lower()\n",
    "            if any(re.search(keyword.lower(), submission_title) or re.search(keyword.lower(), submission_body) for keyword in keywords):\n",
    "                submission_info = {}\n",
    "                for column in columns:\n",
    "                    submission_info[column] = str(getattr(submission, column))\n",
    "                relevant_submissions_data.append(submission_info)\n",
    "    except Exception as e:\n",
    "        print(f\"Error occurred in subreddit: {subreddit}\\nError message: {e}\")\n"
   ]
  },
  {
   "cell_type": "code",
   "execution_count": null,
   "id": "e772ddc6",
   "metadata": {},
   "outputs": [],
   "source": []
  }
 ],
 "metadata": {
  "kernelspec": {
   "display_name": "Python 3 (ipykernel)",
   "language": "python",
   "name": "python3"
  },
  "language_info": {
   "codemirror_mode": {
    "name": "ipython",
    "version": 3
   },
   "file_extension": ".py",
   "mimetype": "text/x-python",
   "name": "python",
   "nbconvert_exporter": "python",
   "pygments_lexer": "ipython3",
   "version": "3.9.13"
  }
 },
 "nbformat": 4,
 "nbformat_minor": 5
}
